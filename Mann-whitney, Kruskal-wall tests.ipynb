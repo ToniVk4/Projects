{
 "cells": [
  {
   "cell_type": "markdown",
   "metadata": {},
   "source": [
    "# Isolating lipid rafts and determining their composition by using biochemical isolation in mice before, during and after the myelination process (5, 15 and 30 days old, respectively) and by using specific antibodies (flotillin, transferrin, MBP, MAG) to confirm successful raft isolation. "
   ]
  },
  {
   "cell_type": "code",
   "execution_count": 91,
   "metadata": {},
   "outputs": [],
   "source": [
    "import seaborn as sns\n",
    "import pandas as pd\n",
    "import os\n",
    "import numpy as np\n",
    "from matplotlib import pyplot as plt\n",
    "from statannot import add_stat_annotation\n",
    "from scipy.stats import kruskal"
   ]
  },
  {
   "cell_type": "markdown",
   "metadata": {},
   "source": [
    "#### Importing data from excel with multiple sheets"
   ]
  },
  {
   "cell_type": "code",
   "execution_count": 92,
   "metadata": {},
   "outputs": [],
   "source": [
    "numbers = np.arange(0, 15) #number of excel sheets\n",
    "xls = pd.ExcelFile('/home/dionizije/Desktop/Statistika/mateo.xlsx')"
   ]
  },
  {
   "cell_type": "code",
   "execution_count": 93,
   "metadata": {},
   "outputs": [],
   "source": [
    "data = []\n",
    "for i in numbers:\n",
    "    df = pd.read_excel(xls, sheet_name = i)\n",
    "    data.append(df)"
   ]
  },
  {
   "cell_type": "markdown",
   "metadata": {},
   "source": [
    "Cell code above reads excel sheets as pandas dataframes and appends them to a list"
   ]
  },
  {
   "cell_type": "markdown",
   "metadata": {},
   "source": [
    "#### Data for protein and mice ages"
   ]
  },
  {
   "cell_type": "code",
   "execution_count": 94,
   "metadata": {},
   "outputs": [],
   "source": [
    "def get_df_from_antibodies(age_string, position_in_data_list):\n",
    "    df = data[position_in_data_list].drop(columns = ['lane', 'percent'])\n",
    "    df['Age'] = age_string\n",
    "    df['area'] = pd.to_numeric(df['area'],errors = 'coerce')\n",
    "    #there are some strings in inputs of area, they're converted to NaN for statistical tests\n",
    "    return df\n"
   ]
  },
  {
   "cell_type": "code",
   "execution_count": 95,
   "metadata": {},
   "outputs": [],
   "source": [
    "flotilin_one_month = get_df_from_antibodies('One month', 0)"
   ]
  },
  {
   "cell_type": "code",
   "execution_count": 96,
   "metadata": {},
   "outputs": [
    {
     "data": {
      "text/html": [
       "<div>\n",
       "<style scoped>\n",
       "    .dataframe tbody tr th:only-of-type {\n",
       "        vertical-align: middle;\n",
       "    }\n",
       "\n",
       "    .dataframe tbody tr th {\n",
       "        vertical-align: top;\n",
       "    }\n",
       "\n",
       "    .dataframe thead th {\n",
       "        text-align: right;\n",
       "    }\n",
       "</style>\n",
       "<table border=\"1\" class=\"dataframe\">\n",
       "  <thead>\n",
       "    <tr style=\"text-align: right;\">\n",
       "      <th></th>\n",
       "      <th>area</th>\n",
       "      <th>Age</th>\n",
       "    </tr>\n",
       "  </thead>\n",
       "  <tbody>\n",
       "    <tr>\n",
       "      <th>0</th>\n",
       "      <td>NaN</td>\n",
       "      <td>One month</td>\n",
       "    </tr>\n",
       "    <tr>\n",
       "      <th>1</th>\n",
       "      <td>NaN</td>\n",
       "      <td>One month</td>\n",
       "    </tr>\n",
       "    <tr>\n",
       "      <th>2</th>\n",
       "      <td>NaN</td>\n",
       "      <td>One month</td>\n",
       "    </tr>\n",
       "    <tr>\n",
       "      <th>3</th>\n",
       "      <td>12057.39697</td>\n",
       "      <td>One month</td>\n",
       "    </tr>\n",
       "    <tr>\n",
       "      <th>4</th>\n",
       "      <td>12815.27565</td>\n",
       "      <td>One month</td>\n",
       "    </tr>\n",
       "    <tr>\n",
       "      <th>5</th>\n",
       "      <td>7166.29646</td>\n",
       "      <td>One month</td>\n",
       "    </tr>\n",
       "    <tr>\n",
       "      <th>6</th>\n",
       "      <td>7186.68986</td>\n",
       "      <td>One month</td>\n",
       "    </tr>\n",
       "    <tr>\n",
       "      <th>7</th>\n",
       "      <td>8124.61880</td>\n",
       "      <td>One month</td>\n",
       "    </tr>\n",
       "    <tr>\n",
       "      <th>8</th>\n",
       "      <td>8404.10408</td>\n",
       "      <td>One month</td>\n",
       "    </tr>\n",
       "    <tr>\n",
       "      <th>9</th>\n",
       "      <td>13621.22540</td>\n",
       "      <td>One month</td>\n",
       "    </tr>\n",
       "    <tr>\n",
       "      <th>10</th>\n",
       "      <td>10582.88225</td>\n",
       "      <td>One month</td>\n",
       "    </tr>\n",
       "    <tr>\n",
       "      <th>11</th>\n",
       "      <td>8706.86144</td>\n",
       "      <td>One month</td>\n",
       "    </tr>\n",
       "  </tbody>\n",
       "</table>\n",
       "</div>"
      ],
      "text/plain": [
       "           area        Age\n",
       "0           NaN  One month\n",
       "1           NaN  One month\n",
       "2           NaN  One month\n",
       "3   12057.39697  One month\n",
       "4   12815.27565  One month\n",
       "5    7166.29646  One month\n",
       "6    7186.68986  One month\n",
       "7    8124.61880  One month\n",
       "8    8404.10408  One month\n",
       "9   13621.22540  One month\n",
       "10  10582.88225  One month\n",
       "11   8706.86144  One month"
      ]
     },
     "execution_count": 96,
     "metadata": {},
     "output_type": "execute_result"
    }
   ],
   "source": [
    "flotilin_one_month"
   ]
  },
  {
   "cell_type": "markdown",
   "metadata": {},
   "source": [
    "#### Rest of the data for flotilin"
   ]
  },
  {
   "cell_type": "code",
   "execution_count": 97,
   "metadata": {},
   "outputs": [],
   "source": [
    "flotilin_two_weeks = get_df_from_antibodies('Two weeks', 2)\n",
    "flotilin_five_days = get_df_from_antibodies('Five days', 4)"
   ]
  },
  {
   "cell_type": "markdown",
   "metadata": {},
   "source": [
    "#### Creating categories in a melted dataframe for seaborn box plot"
   ]
  },
  {
   "cell_type": "code",
   "execution_count": 98,
   "metadata": {},
   "outputs": [],
   "source": [
    "df_flotilin_category_1 = pd.concat([flotilin_five_days, flotilin_two_weeks])\n",
    "df_flotilin_category_1['Category'] = '5D - 2W' #adding category labels so they can be separated by hue\n",
    "\n",
    "df_flotilin_category_2 = pd.concat([flotilin_five_days, flotilin_one_month])\n",
    "df_flotilin_category_2['Category'] = '5D - 1M'\n",
    "\n",
    "df_flotilin_category_3 = pd.concat([flotilin_two_weeks, flotilin_one_month])\n",
    "df_flotilin_category_3['Category'] = '2W - 1M'\n",
    "\n",
    "#creating a melted dataframe\n",
    "df_total_flotilin = pd.concat([df_flotilin_category_1, df_flotilin_category_2, df_flotilin_category_3])"
   ]
  },
  {
   "cell_type": "code",
   "execution_count": 99,
   "metadata": {},
   "outputs": [
    {
     "data": {
      "text/html": [
       "<div>\n",
       "<style scoped>\n",
       "    .dataframe tbody tr th:only-of-type {\n",
       "        vertical-align: middle;\n",
       "    }\n",
       "\n",
       "    .dataframe tbody tr th {\n",
       "        vertical-align: top;\n",
       "    }\n",
       "\n",
       "    .dataframe thead th {\n",
       "        text-align: right;\n",
       "    }\n",
       "</style>\n",
       "<table border=\"1\" class=\"dataframe\">\n",
       "  <thead>\n",
       "    <tr style=\"text-align: right;\">\n",
       "      <th></th>\n",
       "      <th>area</th>\n",
       "      <th>Age</th>\n",
       "      <th>Category</th>\n",
       "    </tr>\n",
       "  </thead>\n",
       "  <tbody>\n",
       "    <tr>\n",
       "      <th>0</th>\n",
       "      <td>NaN</td>\n",
       "      <td>Five days</td>\n",
       "      <td>5D - 2W</td>\n",
       "    </tr>\n",
       "    <tr>\n",
       "      <th>1</th>\n",
       "      <td>NaN</td>\n",
       "      <td>Five days</td>\n",
       "      <td>5D - 2W</td>\n",
       "    </tr>\n",
       "    <tr>\n",
       "      <th>2</th>\n",
       "      <td>NaN</td>\n",
       "      <td>Five days</td>\n",
       "      <td>5D - 2W</td>\n",
       "    </tr>\n",
       "    <tr>\n",
       "      <th>3</th>\n",
       "      <td>4427.17514</td>\n",
       "      <td>Five days</td>\n",
       "      <td>5D - 2W</td>\n",
       "    </tr>\n",
       "    <tr>\n",
       "      <th>4</th>\n",
       "      <td>2255.95332</td>\n",
       "      <td>Five days</td>\n",
       "      <td>5D - 2W</td>\n",
       "    </tr>\n",
       "    <tr>\n",
       "      <th>5</th>\n",
       "      <td>NaN</td>\n",
       "      <td>Five days</td>\n",
       "      <td>5D - 2W</td>\n",
       "    </tr>\n",
       "    <tr>\n",
       "      <th>6</th>\n",
       "      <td>NaN</td>\n",
       "      <td>Five days</td>\n",
       "      <td>5D - 2W</td>\n",
       "    </tr>\n",
       "    <tr>\n",
       "      <th>7</th>\n",
       "      <td>NaN</td>\n",
       "      <td>Five days</td>\n",
       "      <td>5D - 2W</td>\n",
       "    </tr>\n",
       "    <tr>\n",
       "      <th>8</th>\n",
       "      <td>2943.36753</td>\n",
       "      <td>Five days</td>\n",
       "      <td>5D - 2W</td>\n",
       "    </tr>\n",
       "    <tr>\n",
       "      <th>9</th>\n",
       "      <td>3932.83200</td>\n",
       "      <td>Five days</td>\n",
       "      <td>5D - 2W</td>\n",
       "    </tr>\n",
       "  </tbody>\n",
       "</table>\n",
       "</div>"
      ],
      "text/plain": [
       "         area        Age Category\n",
       "0         NaN  Five days  5D - 2W\n",
       "1         NaN  Five days  5D - 2W\n",
       "2         NaN  Five days  5D - 2W\n",
       "3  4427.17514  Five days  5D - 2W\n",
       "4  2255.95332  Five days  5D - 2W\n",
       "5         NaN  Five days  5D - 2W\n",
       "6         NaN  Five days  5D - 2W\n",
       "7         NaN  Five days  5D - 2W\n",
       "8  2943.36753  Five days  5D - 2W\n",
       "9  3932.83200  Five days  5D - 2W"
      ]
     },
     "execution_count": 99,
     "metadata": {},
     "output_type": "execute_result"
    }
   ],
   "source": [
    "df_total_flotilin.head(10)"
   ]
  },
  {
   "cell_type": "markdown",
   "metadata": {},
   "source": [
    "## Mann-Whitney-Wilcoxon significance of flotilin expression between age groups"
   ]
  },
  {
   "cell_type": "code",
   "execution_count": 100,
   "metadata": {},
   "outputs": [
    {
     "name": "stdout",
     "output_type": "stream",
     "text": [
      "pvalue annotation legend:\n",
      "ns: 5.00e-02 < p <= 1.00e+00\n",
      "*: 1.00e-02 < p <= 5.00e-02\n",
      "**: 1.00e-03 < p <= 1.00e-02\n",
      "***: 1.00e-04 < p <= 1.00e-03\n",
      "****: p <= 1.00e-04\n",
      "\n",
      "5D - 2W_Five days v.s. 5D - 2W_Two weeks: Mann-Whitney-Wilcoxon test two-sided P_val=8.710e-01 U_stat=1.600e+01\n",
      "5D - 1M_Five days v.s. 5D - 1M_One month: Mann-Whitney-Wilcoxon test two-sided P_val=2.341e-02 U_stat=5.000e+00\n",
      "2W - 1M_Two weeks v.s. 2W - 1M_One month: Mann-Whitney-Wilcoxon test two-sided P_val=8.323e-01 U_stat=2.900e+01\n"
     ]
    },
    {
     "data": {
      "text/plain": [
       "<matplotlib.legend.Legend at 0x7f3bbcfc9910>"
      ]
     },
     "execution_count": 100,
     "metadata": {},
     "output_type": "execute_result"
    },
    {
     "data": {
      "image/png": "[encoded data removed]",
      "text/plain": [
       "<Figure size 842.4x595.44 with 1 Axes>"
      ]
     },
     "metadata": {},
     "output_type": "display_data"
    }
   ],
   "source": [
    "sns.set(rc={'figure.figsize':(11.7,8.27)})\n",
    "graph_flotilin = sns.boxplot(x = 'Category', y = 'area', hue = 'Age', data = df_total_flotilin,\n",
    "                            linewidth = 3, dodge = True)\n",
    "add_stat_annotation(graph_flotilin, data = df_total_flotilin, x = 'Category', y = 'area', hue = 'Age',\n",
    "                   box_pairs = [(('5D - 2W', 'Five days'), ('5D - 2W', 'Two weeks')),\n",
    "                               (('5D - 1M', 'Five days'), ('5D - 1M', 'One month')),\n",
    "                               (('2W - 1M', 'Two weeks'), ('2W - 1M', 'One month'))],\n",
    "                   test = 'Mann-Whitney', text_format = 'star', loc = 'inside', verbose = 1, stack = False)\n",
    "\n",
    "plt.xlabel('Mice age groups comparison', fontsize = 20)\n",
    "plt.ylabel('')\n",
    "plt.title('Flotilin expression', fontsize = 25)\n",
    "plt.yticks(fontsize = 15)\n",
    "plt.xticks(fontsize = 15)\n",
    "plt.legend(bbox_to_anchor = (1.05, 1), loc = 2, fontsize = 'large')\n"
   ]
  },
  {
   "cell_type": "markdown",
   "metadata": {},
   "source": [
    "## Kruskal-Wallis significance of flotilin expression between age groups"
   ]
  },
  {
   "cell_type": "code",
   "execution_count": 101,
   "metadata": {},
   "outputs": [
    {
     "name": "stdout",
     "output_type": "stream",
     "text": [
      "KruskalResult(statistic=3.033436404864972, pvalue=0.21943083416514148)\n"
     ]
    }
   ],
   "source": [
    "kruskal_results = kruskal(flotilin_two_weeks['area'], flotilin_five_days['area'], flotilin_one_month['area'],\n",
    "                          nan_policy = 'omit')\n",
    "print(kruskal_results)\n"
   ]
  }
 ],
 "metadata": {
  "kernelspec": {
   "display_name": "Python 3",
   "language": "python",
   "name": "python3"
  },
  "language_info": {
   "codemirror_mode": {
    "name": "ipython",
    "version": 3
   },
   "file_extension": ".py",
   "mimetype": "text/x-python",
   "name": "python",
   "nbconvert_exporter": "python",
   "pygments_lexer": "ipython3",
   "version": "3.7.4"
  }
 },
 "nbformat": 4,
 "nbformat_minor": 2
}
